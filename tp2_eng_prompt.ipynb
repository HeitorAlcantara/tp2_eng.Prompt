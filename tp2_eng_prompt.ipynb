{
  "nbformat": 4,
  "nbformat_minor": 0,
  "metadata": {
    "colab": {
      "provenance": [],
      "authorship_tag": "ABX9TyNenP9r5uwNtq3e2x3dAOfL",
      "include_colab_link": true
    },
    "kernelspec": {
      "name": "python3",
      "display_name": "Python 3"
    },
    "language_info": {
      "name": "python"
    }
  },
  "cells": [
    {
      "cell_type": "markdown",
      "metadata": {
        "id": "view-in-github",
        "colab_type": "text"
      },
      "source": [
        "<a href=\"https://colab.research.google.com/github/HeitorAlcantara/tp2_eng.Prompt/blob/main/tp2_eng_prompt.ipynb\" target=\"_parent\"><img src=\"https://colab.research.google.com/assets/colab-badge.svg\" alt=\"Open In Colab\"/></a>"
      ]
    },
    {
      "cell_type": "markdown",
      "source": [
        "## Configuração Inicial"
      ],
      "metadata": {
        "id": "Z_MT-hR_5TT1"
      }
    },
    {
      "cell_type": "code",
      "execution_count": null,
      "metadata": {
        "id": "YzlqaT-TENLu"
      },
      "outputs": [],
      "source": [
        "import google.generativeai as genai\n",
        "from google.colab import userdata\n",
        "userdata.get('GOOGLE_API_KEY')\n",
        "\n",
        "genai.configure(api_key=userdata.get('GOOGLE_API_KEY'))\n",
        "model = genai.GenerativeModel(\"gemini-1.5-flash\")"
      ]
    },
    {
      "cell_type": "markdown",
      "source": [
        "# **Exercício 7:** Resumo de Notícia Utilizando Exemplos em Prompts"
      ],
      "metadata": {
        "id": "iaFj4QHa5bHt"
      }
    },
    {
      "cell_type": "code",
      "source": [
        "## Notícia da tecnoblog\n",
        "noticia = \"\"\"\n",
        "A Netflix decidiu acabar com o plano Básico no Brasil e começou a comunicar os consumidores sobre a migração em massa para o plano Padrão com Anúncios. Nas redes sociais, adeptos da plataforma de streaming se queixam da mudança, que coloca mais publicidade e intervalos comerciais nos filmes e séries.\n",
        "\n",
        "A gigante do entretenimento começou a esconder o Básico em 2023 e confirmou em outubro do mesmo ano que iria finalizá-lo. Cerca de 12 meses depois, a Netflix finalmente colocou a estratégia em prática, para desespero de algumas pessoas.\n",
        "\"\"\"\n",
        "\n",
        "prompt = f\"\"\"\n",
        "Resuma a <NOTICIA> no formato de anotação listando os principais pontos da notícia.\n",
        "\n",
        "<NOTICIA>\n",
        "' Uma das maiores empresas fabricantes de foguetes do mundo, SpaceX, acaba de conseguir estacionar o maior foguete do mundo, o Starship. Essa ideia já vinha sendo contruída durante muito tempo pelo fundador Elon Musk e após várias tentativas, finalmente deu certo. Essa conquista revoluciona o mercado de foguetes e a sociedade em geral.\n",
        "###\n",
        "<RESUMO>\n",
        ". SpaceX conseguiu estacionar o maior foguete do mundo, o Starship.\n",
        ". Após várias tentativas, a empresa de Elon Musk finalmente conseguiu.\n",
        ". É uma conquista que irá revolucionar não só o mercado, mas a sociedade.\n",
        "\n",
        "Agora, resume a notícia abaixo:\n",
        "NOTÍCIA:\n",
        "{noticia}\n",
        "###\n",
        "<RESUMO>\n",
        "\"\"\"\n",
        "\n",
        "response = model.generate_content(prompt)\n",
        "print(\"Resumo\")\n",
        "print(\"\")\n",
        "print(response.text)"
      ],
      "metadata": {
        "colab": {
          "base_uri": "https://localhost:8080/",
          "height": 208
        },
        "id": "kP6FHgGe5gtA",
        "outputId": "9e78f911-1451-47e4-d681-927e8df1d6e4"
      },
      "execution_count": null,
      "outputs": [
        {
          "output_type": "stream",
          "name": "stdout",
          "text": [
            "Resumo\n",
            "\n",
            "## RESUMO:\n",
            "\n",
            "* **A Netflix encerrou o plano Básico no Brasil.**\n",
            "* **Os usuários do plano Básico serão migrados para o plano Padrão com Anúncios.**\n",
            "* **Essa mudança adiciona publicidade e intervalos comerciais aos filmes e séries.**\n",
            "* **A decisão da Netflix gerou reclamações nas redes sociais.**\n",
            "* **A Netflix havia começado a esconder o plano Básico em 2023 e confirmou sua extinção em outubro do mesmo ano.**\n",
            "* **A estratégia foi colocada em prática 12 meses depois.** \n",
            "\n"
          ]
        }
      ]
    },
    {
      "cell_type": "markdown",
      "source": [
        "# **Exercício 8:** Identificação de Entidades em Notícias com LLM"
      ],
      "metadata": {
        "id": "N1-jSSzq-xzH"
      }
    },
    {
      "cell_type": "code",
      "source": [
        "## Notícias do Thenews\n",
        "noticia_1 = \"\"\"\n",
        "Gen Alpha sem TikTok? O primeiro-ministro da Austrália enviou um projeto de lei que pretende criar uma idade mínima de 16 anos para usar as redes sociais.\n",
        "\n",
        "A proposta deve ser levada para votação ainda neste mês e, se aprovada, as empresas — Meta, TikTok, X, Snapchat, Reddit — terão um ano para resolver como excluir quem não tiver a idade mínima necessária.\n",
        "\"\"\"\n",
        "\n",
        "noticia_2 = \"\"\"\n",
        "O Outback acordou com uma nova dona: a Vinci Partners, que comprou o controle da empresa no Brasil por R$ 2 bilhões.\n",
        "\n",
        "Com a compra, a empresa fica com 67% do Outback, enquanto a Bloomin’ Brands — holding dona do restaurante australiano — fica com os outros 33%.\n",
        "\n",
        "Quase 90% do faturamento internacional da Bloomin’ vem do Brasil, chegando a R$ 2,5 bilhões. O sucesso do Outback Brasil — que saiu até no Washington Post do Tio Bezos — salvou a holding.\n",
        "\"\"\"\n",
        "\n",
        "noticia_3 = \"\"\"\n",
        "A ginasta que domina os jogos olímpicos, agora também ocupa o 1° lugar no ranking de atletas com maior nível de popularidade nos Estados Unidos, em um cenário dominado pela NFL e pela NBA, essa popularidade fica ainda mais impressionante.\n",
        "Simone Biles | 99 pontos\n",
        "Patrick Mahomes | 87 pontos\n",
        "Stephen Curry | 75 pontos\n",
        "Travis Kelce | 70 pontos\n",
        "\"\"\""
      ],
      "metadata": {
        "id": "SN50XoDw6TFf"
      },
      "execution_count": null,
      "outputs": []
    },
    {
      "cell_type": "code",
      "source": [
        "prompt = f\"\"\"\n",
        "Você irá receber 3 <NOTÍCIA> diferentes sobre assuntos diversos. O seu trabalho é identificar nessas notícias diferentes entidades (pessoas, órgãos públicos, empresas, locais citados[cidades, países...]), e as listar no formato do exemplo. Por exemplo:\n",
        "\n",
        "<NOTÍCIA 1>\n",
        "'Antes mesmo de assumir a Casa Branca, Trump já anunciou um plano para “desmantelar o deep state e recuperar a democracia da corrupção em Washington de uma vez por todas.'\n",
        "###\n",
        "<ENTIDADES>\n",
        "- *Pessoas:* Donald Trump\n",
        "- *Órgãos Públicos:* Casa Branca\n",
        "- *Locais Citados:* Washington\n",
        "\n",
        "<NOTÍCIA 2>\n",
        "'A Rússia multou o Google em 20,5 decilhões de dólares pela remoção de conteúdos russos sobre a guerra na Ucrânia.'\n",
        "###\n",
        "<ENTIDADES>\n",
        "- *Empresas:* Google\n",
        "- *Locais Citados:* Rússia, Ucrânia\n",
        "\n",
        "Agora, realize a tarefa com as notícias abaixo:\n",
        "NOTÍCIA 1:\n",
        "{noticia_1}\n",
        "###\n",
        "<ENTIDADES>\n",
        "\n",
        "NOTÍCIA 2:\n",
        "{noticia_2}\n",
        "###\n",
        "<ENTIDADES>\n",
        "\n",
        "NOTÍCIA 3:\n",
        "{noticia_3}\n",
        "###\n",
        "<ENTIDADES>\n",
        "\n",
        "\"\"\"\n",
        "\n",
        "response = model.generate_content(prompt)\n",
        "print(\"Resumo\")\n",
        "print(\"\")\n",
        "print(response.text)"
      ],
      "metadata": {
        "colab": {
          "base_uri": "https://localhost:8080/",
          "height": 416
        },
        "id": "suoqihN8CB57",
        "outputId": "f0d39097-e5e1-4340-a487-eb14f78d5594"
      },
      "execution_count": null,
      "outputs": [
        {
          "output_type": "stream",
          "name": "stdout",
          "text": [
            "Resumo\n",
            "\n",
            "## <ENTIDADES> das notícias:\n",
            "\n",
            "**NOTÍCIA 1:**\n",
            "\n",
            "- *Pessoas:* Primeiro-ministro da Austrália \n",
            "- *Empresas:* Meta, TikTok, X (Twitter), Snapchat, Reddit\n",
            "- *Grupos:* Gen Alpha\n",
            "- *Locais Citados:* Austrália\n",
            "\n",
            "**NOTÍCIA 2:**\n",
            "\n",
            "- *Empresas:* Outback, Vinci Partners, Bloomin’ Brands\n",
            "- *Locais Citados:* Brasil, Austrália, Estados Unidos (Washington)\n",
            "- *Outros:* Tio Bezos (referência a Jeff Bezos, dono do Washington Post)\n",
            "\n",
            "**NOTÍCIA 3:**\n",
            "\n",
            "- *Pessoas:* Simone Biles, Patrick Mahomes, Stephen Curry, Travis Kelce\n",
            "- *Organizações:* NFL, NBA\n",
            "- *Locais Citados:* Estados Unidos \n",
            "\n"
          ]
        }
      ]
    },
    {
      "cell_type": "code",
      "source": [
        "## O prompt foi feito com alguns few-shots e um exemplo de Output. Não só me trouxe o esperado, como também trouxe outros agrupamentos relevantes para a notícia."
      ],
      "metadata": {
        "id": "dRks6ECoCYf7"
      },
      "execution_count": null,
      "outputs": []
    },
    {
      "cell_type": "markdown",
      "source": [
        "# **Exercício 9:** Cálculo de Tokens em Texto Longo com API Gemini"
      ],
      "metadata": {
        "id": "7ybFAFIgDepH"
      }
    },
    {
      "cell_type": "code",
      "source": [
        "prompt = \"Me gere um texto, em inglês, com 5 mil palavras.\"\n",
        "\n",
        "response = model.generate_content(prompt)\n",
        "print(response.text)"
      ],
      "metadata": {
        "colab": {
          "base_uri": "https://localhost:8080/",
          "height": 836
        },
        "id": "AzUrMWVvDoXX",
        "outputId": "d52dcb03-2d57-4f0d-be43-85962b287a48"
      },
      "execution_count": null,
      "outputs": [
        {
          "output_type": "stream",
          "name": "stdout",
          "text": [
            "## The Whispering Pines: A Tale of Loss and Renewal\n",
            "\n",
            "The air was thick with the scent of pine needles and damp earth. A gentle breeze rustled the leaves overhead, whispering secrets to the ancient trees that stood sentinel over the valley. Beneath them, a small cabin nestled amidst the pines, its weathered wood painted a faded gray, a testament to the passage of time. \n",
            "\n",
            "Inside, Emily sat by the window, her gaze lost in the swirling mist that danced across the valley floor. The sun, a pale orb veiled by clouds, cast long, skeletal shadows across the landscape, adding to the sense of melancholy that hung heavy in the air. She had been here for a month now, seeking solace in the solitude of the wilderness, a sanctuary from the clamoring grief that threatened to consume her.\n",
            "\n",
            "The cabin belonged to her grandmother, a woman who had lived her entire life in the embrace of the Whispering Pines, her spirit as strong and enduring as the ancient oaks that surrounded her home. Emily had spent countless summers here as a child, exploring the hidden trails and listening to her grandmother’s stories of the valley, tales spun from the fabric of legend and lore. Now, the cabin felt like a ghost, its silence amplifying the ache in Emily's heart.\n",
            "\n",
            "Her grandmother, Amelia, had been more than just a relative; she was a confidante, a mentor, a beacon of wisdom in Emily's life. Her passing, sudden and unexpected, had left a gaping hole in Emily's world, a void she couldn't seem to fill. Amelia had always told her, \"The pines whisper, Emily. Listen closely, and they will tell you secrets.\" Now, Emily found herself yearning to hear those whispers, hoping they might offer some solace, some guidance in her time of need.\n",
            "\n",
            "She rose from her chair, the creaking floorboards a familiar sound that echoed the creaks of her own weary heart. Outside, the world was bathed in the ethereal light of the approaching dusk, the pines casting elongated shadows that danced across the mossy ground.  The air was heavy with the scent of pine and damp earth, a perfume that filled her senses with a bittersweet longing. \n",
            "\n",
            "Emily walked towards the edge of the woods, the soft earth yielding beneath her boots. The trees stood tall and stoic, their branches reaching towards the sky, their needles whispering secrets to the wind. She paused, listening intently, but all she could hear was the rustling of leaves and the gentle hum of insects. \n",
            "\n",
            "Days turned into weeks, each one a slow, agonizing crawl through the mire of her grief. Emily spent her time tending the garden that Amelia had lovingly cultivated, her hands finding solace in the rhythm of planting and weeding. She explored the surrounding woods, following the winding paths that Amelia had carved through the wilderness, each bend revealing a hidden vista, a forgotten waterfall, or a patch of wildflowers bursting into vibrant life.\n",
            "\n",
            "One afternoon, as Emily walked through the woods, a strange sensation washed over her. It was a feeling of presence, a gentle nudge from the unseen, a whisper on the wind. She stopped, turning her head slowly, her senses on high alert. She felt a warmth radiating from the trees, a comforting energy that seemed to envelop her in a protective embrace. \n",
            "\n",
            "She closed her eyes, breathing deeply, trying to capture the essence of the sensation. It was then that she heard it, a faint whisper, carried on the breeze, as if spoken by the trees themselves. It was a word, a single word that resonated in the depths of her soul, echoing the silent plea that had been echoing within her: \"Heal.\"\n",
            "\n",
            "The word hung in the air, a balm to her wounded spirit. It resonated not with a sense of obligation, but with a gentle understanding, a tender encouragement. It was as if the pines were saying, \"You are not alone, Emily. We are here to help you heal.\"\n",
            "\n",
            "Overwhelmed by the feeling, Emily sank to her knees, tears streaming down her face.  She felt a sense of peace settle over her, a gentle calm that washed away the storm of grief that had been raging within her.  The whispers continued, soft and reassuring, like the sound of rain on the leaves, soothing her soul.\n",
            "\n",
            "As the sun began its descent, painting the sky in hues of orange and purple, Emily rose from her knees, a newfound strength coursing through her veins. She looked around, her gaze falling upon the majestic pines that stood sentinel over the valley.  Their branches reached towards the sky, their needles whispering secrets to the wind, their presence a constant reminder of the enduring power of nature, of the cycle of life, death, and renewal.\n",
            "\n",
            "She walked back to the cabin, her steps lighter, her heart lighter.  The air around her seemed to hum with energy, a symphony of whispers from the trees, a gentle symphony of encouragement and hope. She was not alone. The pines were with her, their silent strength a source of comfort and inspiration.\n",
            "\n",
            "The following weeks were filled with a sense of purpose. Emily felt a renewed passion for life, an eagerness to embrace the future with open arms. She started working on a project that Amelia had always wanted to see completed, a community garden that would bring the people of the valley together. \n",
            "\n",
            "She gathered the local children, sharing her grandmother's stories of the woods, teaching them the secrets of the land. She organized workshops on sustainable living, sharing her knowledge of herbal remedies and traditional gardening techniques.  Her days were filled with purpose and connection, her heart overflowing with gratitude for the gift of life, the beauty of nature, and the enduring love of her grandmother.\n",
            "\n",
            "The whispers continued, a constant presence in her life. They were subtle, sometimes almost imperceptible, yet always there, guiding her, encouraging her, reminding her that she was not alone.  \n",
            "\n",
            "One day, as Emily sat by the window, the scent of pine filling the air, she felt a sense of closure, a completion.  The grief that had once consumed her had transformed into a profound sense of gratitude for the life she had shared with Amelia, for the love and wisdom that had been passed down to her.\n",
            "\n",
            "She looked out at the valley, the sun casting a golden glow over the landscape.  The pines stood tall and strong, their needles rustling in the breeze, whispering secrets to the wind.  Emily smiled, knowing that her grandmother was still with her, her spirit woven into the fabric of the valley, her love a constant presence in her life.\n",
            "\n",
            "The Whispering Pines had been a sanctuary, a place of healing, a source of strength.  They had offered solace in her time of need, and now, they offered hope for the future.  She knew that she would never truly be alone. The pines would always be there, whispering secrets to the wind, their presence a comforting reminder of the enduring power of love, loss, and the cycle of life.  \n",
            "\n",
            "As the sun began its descent, casting long shadows across the valley, Emily felt a wave of peace wash over her. The whispers of the pines were no longer a source of sorrow, but a beacon of hope, a reminder that even in the darkest of times, life finds a way to bloom again. \n",
            "\n",
            "She knew that her grandmother’s spirit would always be with her, a gentle presence in the rustling of the leaves, the whispering of the wind, the timeless embrace of the Whispering Pines.  \n",
            "\n",
            "And as the sun dipped below the horizon, the pines stood tall and silent, their needles whispering secrets to the wind, their presence a testament to the enduring power of nature, of life, and of love. \n",
            "\n"
          ]
        }
      ]
    },
    {
      "cell_type": "code",
      "source": [
        "cinco_mil_palavras = response.text\n",
        "\n",
        "print(\"total_tokens: \", model.count_tokens(cinco_mil_palavras)) ## Tokens de entrada\n",
        "\n",
        "response_token = model.generate_content(cinco_mil_palavras)\n",
        "print(response_token.usage_metadata) ## Tokens de entrada, saída e total"
      ],
      "metadata": {
        "colab": {
          "base_uri": "https://localhost:8080/",
          "height": 121
        },
        "id": "zHfgISylGZSq",
        "outputId": "85c1b623-8b3c-41f3-8f40-97e5e24d5d05"
      },
      "execution_count": null,
      "outputs": [
        {
          "output_type": "stream",
          "name": "stdout",
          "text": [
            "total_tokens:  total_tokens: 1579\n",
            "\n",
            "prompt_token_count: 1580\n",
            "candidates_token_count: 505\n",
            "total_token_count: 2085\n",
            "\n"
          ]
        }
      ]
    },
    {
      "cell_type": "code",
      "source": [
        "## Há uma limitação no processamento da quantidade de tokens em LLM's que dificulta e encarece quando se trata de textos longos ou até imagens e vídeos. Podendo atrapalhar nas respostas do LLM."
      ],
      "metadata": {
        "id": "dbkMrN_2Hmzn"
      },
      "execution_count": null,
      "outputs": []
    },
    {
      "cell_type": "markdown",
      "source": [],
      "metadata": {
        "id": "dftY_1YXfrqx"
      }
    },
    {
      "cell_type": "markdown",
      "source": [
        "# **Exercício 11:** Estruturação de Prompts com Arquivo YAML"
      ],
      "metadata": {
        "id": "ix-EAoKsfswF"
      }
    },
    {
      "cell_type": "code",
      "source": [
        "import yaml\n",
        "\n",
        "data = {\n",
        "    'roteiro': {\n",
        "        'atenas': 'Liste 3 pontos turísticos de Atenas, diante de cada ponto turístico, coloque também o número anual de visitantes, em integer, e uma breve descrição do local. Estruture a saída no formato JSON.',\n",
        "        'roma': 'Liste 3 pontos turísticos de Roma, diante de cada ponto turístico, coloque também o número anual de visitantes, em integer, e uma breve descrição do local. Estruture a saída no formato JSON.'\n",
        "    }\n",
        "}\n",
        "\n",
        "with open(\"roteiro.yaml\", \"w\") as file:\n",
        "    yaml.dump(data, file, allow_unicode=True)"
      ],
      "metadata": {
        "id": "2UpNlEKWfz71"
      },
      "execution_count": null,
      "outputs": []
    },
    {
      "cell_type": "code",
      "source": [
        "from google.colab import files\n",
        "files.download(\"roteiro.yaml\")"
      ],
      "metadata": {
        "id": "bViY7NaosOPS"
      },
      "execution_count": null,
      "outputs": []
    },
    {
      "cell_type": "code",
      "source": [
        "with open(\"roteiro.yaml\") as stream:\n",
        "    try:\n",
        "        config = yaml.safe_load(stream)\n",
        "    except yaml.YAMLError as exc:\n",
        "        print(exc)\n",
        "\n",
        "config\n",
        "\n",
        "\n",
        "response_atenas = model.generate_content(config['roteiro']['atenas'])\n",
        "response_roma = model.generate_content(config['roteiro']['roma'])\n",
        "\n",
        "print(\"Roteiro de Atenas gerado pelo LLM:\")\n",
        "print(response_atenas.text)\n",
        "print(\"\")\n",
        "print(\"Roteiro de Roma gerado pelo LLM:\")\n",
        "print(response_roma.text)"
      ],
      "metadata": {
        "colab": {
          "base_uri": "https://localhost:8080/",
          "height": 731
        },
        "id": "RS3bUrlJikib",
        "outputId": "89a5b7f1-b6e5-48e8-d515-a15f0be52b36"
      },
      "execution_count": null,
      "outputs": [
        {
          "output_type": "display_data",
          "data": {
            "text/plain": [
              "<IPython.core.display.Javascript object>"
            ],
            "application/javascript": [
              "\n",
              "    async function download(id, filename, size) {\n",
              "      if (!google.colab.kernel.accessAllowed) {\n",
              "        return;\n",
              "      }\n",
              "      const div = document.createElement('div');\n",
              "      const label = document.createElement('label');\n",
              "      label.textContent = `Downloading \"${filename}\": `;\n",
              "      div.appendChild(label);\n",
              "      const progress = document.createElement('progress');\n",
              "      progress.max = size;\n",
              "      div.appendChild(progress);\n",
              "      document.body.appendChild(div);\n",
              "\n",
              "      const buffers = [];\n",
              "      let downloaded = 0;\n",
              "\n",
              "      const channel = await google.colab.kernel.comms.open(id);\n",
              "      // Send a message to notify the kernel that we're ready.\n",
              "      channel.send({})\n",
              "\n",
              "      for await (const message of channel.messages) {\n",
              "        // Send a message to notify the kernel that we're ready.\n",
              "        channel.send({})\n",
              "        if (message.buffers) {\n",
              "          for (const buffer of message.buffers) {\n",
              "            buffers.push(buffer);\n",
              "            downloaded += buffer.byteLength;\n",
              "            progress.value = downloaded;\n",
              "          }\n",
              "        }\n",
              "      }\n",
              "      const blob = new Blob(buffers, {type: 'application/binary'});\n",
              "      const a = document.createElement('a');\n",
              "      a.href = window.URL.createObjectURL(blob);\n",
              "      a.download = filename;\n",
              "      div.appendChild(a);\n",
              "      a.click();\n",
              "      div.remove();\n",
              "    }\n",
              "  "
            ]
          },
          "metadata": {}
        },
        {
          "output_type": "display_data",
          "data": {
            "text/plain": [
              "<IPython.core.display.Javascript object>"
            ],
            "application/javascript": [
              "download(\"download_4e741572-0397-4cde-a4c1-d7dcb35388f0\", \"roteiro.yaml\", 359)"
            ]
          },
          "metadata": {}
        },
        {
          "output_type": "stream",
          "name": "stdout",
          "text": [
            "Roteiro de Atenas gerado pelo LLM:\n",
            "## 3 Pontos turísticos de Atenas:\n",
            "\n",
            "**1. Acrópole de Atenas:**\n",
            "\n",
            "* **Número anual de visitantes:**  Aproximadamente 3 milhões.\n",
            "\n",
            "* **Descrição:** Um dos monumentos mais icônicos da Grécia e do mundo, a Acrópole é um complexo de templos e edifícios antigos, incluindo o Partenon, erguidos no alto de uma colina rochosa. A vista panorâmica da cidade é deslumbrante, e a história que permeia o local é simplesmente fascinante.\n",
            "\n",
            "**2. Museu da Acrópole:**\n",
            "\n",
            "* **Número anual de visitantes:** Aproximadamente 1,5 milhões.\n",
            "\n",
            "* **Descrição:** Localizado na encosta da Acrópole, este museu abriga uma coleção impressionante de artefatos e esculturas da Acrópole, incluindo algumas das famosas cariátides do Erechtheion. É imperdível para quem quer mergulhar na história e arte da Grécia Antiga.\n",
            "\n",
            "**3. Ágora Antiga:**\n",
            "\n",
            "* **Número anual de visitantes:** Aproximadamente 500.000.\n",
            "\n",
            "* **Descrição:** A Ágora Antiga era o coração da vida social, política e comercial de Atenas na antiguidade. As ruínas do local, como o Templo de Hefesto e o Stoa de Attalos, oferecem uma visão fascinante da vida na Grécia Antiga e da organização urbana da época. \n",
            "\n",
            "\n",
            "Roteiro de Roma gerado pelo LLM:\n",
            "## 3 Pontos turísticos de Roma:\n",
            "\n",
            "**1. Coliseu:**\n",
            "\n",
            "* **Número anual de visitantes:** Aproximadamente 7,5 milhões (dados de 2019)\n",
            "* **Descrição:** Um anfiteatro romano construído no século I d.C., capaz de acomodar até 80.000 espectadores. Era utilizado para combates de gladiadores, caça de animais e outras formas de entretenimento. Hoje, é um dos monumentos mais icônicos da cidade de Roma, símbolo do Império Romano e uma atração turística mundialmente famosa. \n",
            "\n",
            "**2. Fórum Romano e Palatino:**\n",
            "\n",
            "* **Número anual de visitantes:** Aproximadamente 3 milhões (dados de 2019)\n",
            "* **Descrição:** Um conjunto de ruínas romanas que representavam o centro político e social da cidade na época do Império Romano. O Fórum era a área pública onde aconteciam atividades políticas e religiosas, enquanto o Palatino era a colina onde viviam os imperadores romanos. É um local histórico fundamental para entender o desenvolvimento de Roma e sua cultura.\n",
            "\n",
            "**3. Museus Vaticanos e Capela Sistina:**\n",
            "\n",
            "* **Número anual de visitantes:** Aproximadamente 6 milhões (dados de 2019)\n",
            "* **Descrição:** Um complexo de museus que abrigam uma vasta coleção de obras de arte, esculturas, pinturas e artefatos de diferentes períodos históricos. O ponto alto é a Capela Sistina, famosa por seus afrescos de Michelangelo, incluindo \"O Juízo Final\", uma obra-prima da arte renascentista. É um local de grande importância religiosa e artística, atraindo visitantes do mundo todo.\n",
            "\n"
          ]
        }
      ]
    },
    {
      "cell_type": "code",
      "source": [
        "## Os pontos turísticos são bem descritivos e relevantes para cada cidade. Traz os pontos mais famosos."
      ],
      "metadata": {
        "id": "H25D7GUDuChg"
      },
      "execution_count": null,
      "outputs": []
    },
    {
      "cell_type": "markdown",
      "source": [
        "# **Exercício 12:** Sistema de Envio de Emails com Dados Turísticos em JSON"
      ],
      "metadata": {
        "id": "ejMWS89ye68K"
      }
    },
    {
      "cell_type": "code",
      "source": [
        "with open(\"roteiro.yaml\") as stream:\n",
        "    try:\n",
        "        config = yaml.safe_load(stream)\n",
        "    except yaml.YAMLError as exc:\n",
        "        print(exc)\n",
        "\n",
        "config\n",
        "\n",
        "response_atenas = model.generate_content(config['roteiro']['atenas'])\n",
        "response_roma = model.generate_content(config['roteiro']['roma'])"
      ],
      "metadata": {
        "id": "GfEUy28ffCPd"
      },
      "execution_count": null,
      "outputs": []
    },
    {
      "cell_type": "code",
      "source": [
        "import matplotlib.pyplot as plt\n",
        "import pandas as pd\n",
        "import json\n",
        "\n",
        "response_atenas_json = json.loads(response_atenas.text.replace(\"```json\\n\",'').replace(\"\\n```\",''))\n",
        "response_roma_json = json.loads(response_roma.text.replace(\"```json\\n\",'').replace(\"\\n```\",''))\n",
        "\n",
        "pontos_turisticos_atenas = [(x['nome'], x['visitantes']) for x in response_atenas_json['pontos_turisticos']]\n",
        "pontos_turisticos_roma = [(x['nome'], x['visitantes']) for x in response_roma_json['pontos_turisticos']]\n",
        "pontos_turisticos = pontos_turisticos_atenas + pontos_turisticos_roma\n",
        "\n",
        "\n",
        "df_pontos_turisticos = pd.DataFrame(pontos_turisticos)\n",
        "df_pontos_turisticos.columns = ['pontos_turisticos', 'visitantes_anuais']\n",
        "\n",
        "df_pontos_turisticos['visitantes_anuais'] = pd.to_numeric(df_pontos_turisticos['visitantes_anuais'])\n",
        "colors = [\"red\", \"orange\", \"blue\", \"green\", \"yellow\", \"brown\"]\n",
        "\n",
        "df_pontos_turisticos.sort_values('visitantes_anuais', ascending=True).plot.barh(x='pontos_turisticos', y='visitantes_anuais', color = colors)\n",
        "plt.xlabel('Visitantes Anuais (em milhões)')\n",
        "plt.ylabel('Pontos Turísticos')\n",
        "plt.title('Pontos Turísticos por Visitantes Anuais')"
      ],
      "metadata": {
        "colab": {
          "base_uri": "https://localhost:8080/",
          "height": 489
        },
        "id": "Xo9JR8F8xh3T",
        "outputId": "3b13fa0b-e422-4395-f94c-d1892ca3da22"
      },
      "execution_count": null,
      "outputs": [
        {
          "output_type": "execute_result",
          "data": {
            "text/plain": [
              "Text(0.5, 1.0, 'Pontos Turísticos por Visitantes Anuais')"
            ]
          },
          "metadata": {},
          "execution_count": 73
        },
        {
          "output_type": "display_data",
          "data": {
            "text/plain": [
              "<Figure size 640x480 with 1 Axes>"
            ],
            "image/png": "[encoded data removed]"
          },
          "metadata": {}
        }
      ]
    }
  ]
}